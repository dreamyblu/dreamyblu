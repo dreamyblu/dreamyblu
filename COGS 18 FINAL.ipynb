{
 "cells": [
  {
   "cell_type": "markdown",
   "metadata": {},
   "source": [
    "# COGS 18 Final Project - bobaBot! (/^▽^)/"
   ]
  },
  {
   "cell_type": "markdown",
   "metadata": {},
   "source": [
    "## Project Description\n",
    "My project is bobaBot. This is a bot used to guide a user into buying a virtual \"boba\" drink and also ask questions about it if a user is uncertain about what boba / other toppings are. This chatbot can inform users about brief information about boba toppings. The flow of a normal conversation you'd have with bobaBot would be to introduce yourself, discuss and learn more about toppings, order, and finish! I did use the code learned in A3 and modified it to fit the need of this bobaBot. I added a new function called `is_exclamation` to remind the user to lower their voice. Just because it is a robot, does not mean it does not have feelings. Feel free to start running it and chatting with it! To continue with the second part, please restart & clear output because `tea_time` makes `ascii_drawing` not work. "
   ]
  },
  {
   "cell_type": "markdown",
   "metadata": {},
   "source": [
    "## bobaBot Code\n",
    "`tea_time` is the main function that runs our little bobaBot! It is located in the extra.py file. As mentioned before, the code used in extra.py is derived from A3 and modified to suit our bobaBot."
   ]
  },
  {
   "cell_type": "code",
   "execution_count": null,
   "metadata": {},
   "outputs": [],
   "source": [
    "from extra import *\n",
    "from myascii import *"
   ]
  },
  {
   "cell_type": "code",
   "execution_count": null,
   "metadata": {},
   "outputs": [],
   "source": [
    "tea_time()"
   ]
  },
  {
   "cell_type": "markdown",
   "metadata": {},
   "source": [
    "Below is a test to make sure our new function, `is_exclamation`, works"
   ]
  },
  {
   "cell_type": "code",
   "execution_count": null,
   "metadata": {},
   "outputs": [],
   "source": [
    "assert callable(is_exclamation)\n",
    "assert isinstance(is_exclamation('abc'), bool)\n",
    "assert is_exclamation('wow!') == True\n",
    "\n",
    "assert callable(is_question)\n"
   ]
  },
  {
   "cell_type": "markdown",
   "metadata": {},
   "source": [
    "## ascii_drawing Code\n",
    "`ascii_drawing` is a function that \"draws\" your boba order! Hopefully you can see it with the minimal ascii code. This ascii txt is located in banner.txt . "
   ]
  },
  {
   "cell_type": "code",
   "execution_count": null,
   "metadata": {},
   "outputs": [],
   "source": [
    "ascii_drawing()"
   ]
  },
  {
   "cell_type": "markdown",
   "metadata": {},
   "source": [
    "## Last, but not least\n",
    "Just a small cell dedicated to a new class made called, Cogs18. It is located in myascii.py. Overall, really enjoyed the class and the way we learned Python. But, really happy that it is over because I really did need a break (to be honest). Thank you for everything!"
   ]
  },
  {
   "cell_type": "code",
   "execution_count": null,
   "metadata": {},
   "outputs": [],
   "source": [
    "Cogs18(feelings='Happy').speaking_facts()"
   ]
  },
  {
   "cell_type": "markdown",
   "metadata": {},
   "source": [
    "Below is a test to make sure the class Cogs18 and its functions work."
   ]
  },
  {
   "cell_type": "code",
   "execution_count": null,
   "metadata": {},
   "outputs": [],
   "source": [
    "tea_time()"
   ]
  },
  {
   "cell_type": "code",
   "execution_count": null,
   "metadata": {},
   "outputs": [],
   "source": [
    "assert isinstance(Cogs18(feelings='Happy').speaking_facts(), str)"
   ]
  }
 ],
 "metadata": {
  "kernelspec": {
   "display_name": "Python 3",
   "language": "python",
   "name": "python3"
  },
  "language_info": {
   "codemirror_mode": {
    "name": "ipython",
    "version": 3
   },
   "file_extension": ".py",
   "mimetype": "text/x-python",
   "name": "python",
   "nbconvert_exporter": "python",
   "pygments_lexer": "ipython3",
   "version": "3.7.4"
  }
 },
 "nbformat": 4,
 "nbformat_minor": 2
}
